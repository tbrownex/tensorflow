{
 "cells": [
  {
   "cell_type": "code",
   "execution_count": null,
   "metadata": {
    "collapsed": false,
    "deletable": true,
    "editable": true
   },
   "outputs": [],
   "source": [
    "from sklearn.ensemble import AdaBoostRegressor\n",
    "from sklearn.tree     import DecisionTreeRegressor\n",
    "import pandas as pd\n",
    "import numpy as np\n",
    "import sys\n",
    "from sklearn.model_selection import train_test_split\n",
    "import time\n",
    "from operator import itemgetter\n",
    "\n",
    "TEST_PCT = 0.70\n",
    "MAX_DEPTH = 12\n",
    "LOSS = 'square'\n",
    "NUM_TREES = 400\n",
    "COLS = ['density', 'median_age', 'median_hh_income', 'pct_hispanic', 'pct_white', 'pct_black']"
   ]
  },
  {
   "cell_type": "code",
   "execution_count": null,
   "metadata": {
    "collapsed": false,
    "deletable": true,
    "editable": true
   },
   "outputs": [],
   "source": [
    "# Load the data\n",
    "if sys.platform[:3] =='win': data_loc = 'D:/Data/Loyalty Vision/'\n",
    "else: data_loc = \"/home/tom/ML/data/CBG/\"\n",
    "\n",
    "filenm = \"CBG_prepared.csv\"\n",
    "df = pd.read_csv(data_loc+filenm, delimiter=',')\n",
    "df = df.sample(10000)  # for Grainger"
   ]
  },
  {
   "cell_type": "code",
   "execution_count": null,
   "metadata": {
    "collapsed": false,
    "deletable": true,
    "editable": true
   },
   "outputs": [],
   "source": [
    "# Split into Train and Test\n",
    "df_train, df_test = train_test_split(df, test_size=TEST_PCT)\n",
    "\n",
    "train_x = df_train[COLS]\n",
    "train_y = df_train['spend_per_hh']\n",
    "test_x = df_test[COLS]\n",
    "test_y = df_test['spend_per_hh']\n",
    "print('Record counts    Training: {:,}   Test  {:,}'.format(df_train.shape[0], df_test.shape[0]))"
   ]
  },
  {
   "cell_type": "code",
   "execution_count": null,
   "metadata": {
    "collapsed": false,
    "deletable": true,
    "editable": true
   },
   "outputs": [],
   "source": [
    "# Run the job\n",
    "start = time.time()\n",
    "\n",
    "# Fit regression model\n",
    "regr = AdaBoostRegressor(DecisionTreeRegressor(\n",
    "    max_depth=MAX_DEPTH), loss=LOSS, n_estimators=NUM_TREES)\n",
    "regr.fit(train_x, train_y)\n",
    "print('Time to train: {:.0f} seconds'.format(time.time() - start))\n",
    "\n",
    "# See how accurate it was through the R-squared value\n",
    "start = time.time()\n",
    "score = regr.score(test_x, test_y)\n",
    "print('R-squared: {:.2}'.format(score))\n",
    "print('Time to score: {:.0f} seconds'.format(time.time() - start))\n",
    "\n",
    "# Manually compute the R-squared value to confirm with \"score()\"\n",
    "y_preds = regr.predict(test_x)\n",
    "y_preds = pd.DataFrame(y_preds, columns=['pred'])\n",
    "\n",
    "actual = pd.DataFrame({'spend_per_hh': pd.Series(test_y)})\n",
    "actual = actual.reset_index(drop=True)\n",
    "actual.columns =['actual']\n",
    "\n",
    "both = y_preds.join(actual)\n",
    "\n",
    "both['sum_error'] = (both['actual'] - both['pred']) ** 2\n",
    "both['sum_explained'] = (both['actual'] - both['actual'].mean()) ** 2\n",
    "print('Manual R-squared calculation:  {:.2}'.format(1 - both['sum_error'].sum()/both['sum_explained'].sum()))\n",
    "!aplay /usr/share/sounds/bicycle_bell.wav"
   ]
  },
  {
   "cell_type": "code",
   "execution_count": null,
   "metadata": {
    "collapsed": false,
    "deletable": true,
    "editable": true
   },
   "outputs": [],
   "source": [
    "# This will show the relative importance of each feature\n",
    "relative_importance = list(zip(COLS, regr.feature_importances_))\n",
    "print('{:<20}{}'.format('Feature', 'Relative Importance'))\n",
    "for a,b in sorted(relative_importance, key=itemgetter(1), reverse=True):\n",
    "    print('{:<20}{:.2}'.format(a, b))"
   ]
  },
  {
   "cell_type": "code",
   "execution_count": null,
   "metadata": {
    "collapsed": true,
    "deletable": true,
    "editable": true
   },
   "outputs": [],
   "source": []
  }
 ],
 "metadata": {
  "anaconda-cloud": {},
  "kernelspec": {
   "display_name": "Python 3",
   "language": "python",
   "name": "python3"
  },
  "language_info": {
   "codemirror_mode": {
    "name": "ipython",
    "version": 3
   },
   "file_extension": ".py",
   "mimetype": "text/x-python",
   "name": "python",
   "nbconvert_exporter": "python",
   "pygments_lexer": "ipython3",
   "version": "3.5.2"
  }
 },
 "nbformat": 4,
 "nbformat_minor": 1
}

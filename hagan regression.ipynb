{
 "cells": [
  {
   "cell_type": "code",
   "execution_count": 21,
   "metadata": {
    "collapsed": false
   },
   "outputs": [],
   "source": [
    "import pandas as pd\n",
    "import numpy as np\n",
    "import tensorflow as tf\n",
    "from sklearn.model_selection import train_test_split\n",
    "from sklearn.preprocessing import StandardScaler\n",
    "import sys\n",
    "import matplotlib.pyplot as plt\n",
    "\n",
    "L1_SIZE        = 10            # How many nodes in layer 1\n",
    "EPOCHS         = 500\n",
    "TEST_PCT       = 0.15\n",
    "FEATURE_COUNT  = 2\n",
    "LEARNING_RATE  = .01\n",
    "SUMMARIES_DIR  = '/home/tom/tf_logs' # where to store Tensorboard data\n",
    "LAMBDA         = 0.              # Regularization parameter\n",
    "REGULARIZATION = 'L2'\n",
    "#REGULARIZATION = 'DROPOUT'\n",
    "PLOT           = False"
   ]
  },
  {
   "cell_type": "code",
   "execution_count": 22,
   "metadata": {
    "collapsed": true
   },
   "outputs": [],
   "source": [
    "def init_weights(shape):\n",
    "    return tf.Variable(tf.random_normal(shape, dtype=tf.float32))"
   ]
  },
  {
   "cell_type": "markdown",
   "metadata": {},
   "source": [
    "#### Get the data"
   ]
  },
  {
   "cell_type": "code",
   "execution_count": 23,
   "metadata": {
    "collapsed": false
   },
   "outputs": [
    {
     "data": {
      "text/html": [
       "<div>\n",
       "<table border=\"1\" class=\"dataframe\">\n",
       "  <thead>\n",
       "    <tr style=\"text-align: right;\">\n",
       "      <th></th>\n",
       "      <th>v1</th>\n",
       "      <th>v2</th>\n",
       "      <th>y</th>\n",
       "    </tr>\n",
       "  </thead>\n",
       "  <tbody>\n",
       "    <tr>\n",
       "      <th>0</th>\n",
       "      <td>2.66</td>\n",
       "      <td>4.44</td>\n",
       "      <td>0.00</td>\n",
       "    </tr>\n",
       "    <tr>\n",
       "      <th>1</th>\n",
       "      <td>1.98</td>\n",
       "      <td>4.43</td>\n",
       "      <td>0.06</td>\n",
       "    </tr>\n",
       "    <tr>\n",
       "      <th>2</th>\n",
       "      <td>1.44</td>\n",
       "      <td>4.43</td>\n",
       "      <td>0.11</td>\n",
       "    </tr>\n",
       "    <tr>\n",
       "      <th>3</th>\n",
       "      <td>0.71</td>\n",
       "      <td>4.43</td>\n",
       "      <td>0.18</td>\n",
       "    </tr>\n",
       "    <tr>\n",
       "      <th>4</th>\n",
       "      <td>0.46</td>\n",
       "      <td>4.41</td>\n",
       "      <td>0.20</td>\n",
       "    </tr>\n",
       "  </tbody>\n",
       "</table>\n",
       "</div>"
      ],
      "text/plain": [
       "     v1    v2     y\n",
       "0  2.66  4.44  0.00\n",
       "1  1.98  4.43  0.06\n",
       "2  1.44  4.43  0.11\n",
       "3  0.71  4.43  0.18\n",
       "4  0.46  4.41  0.20"
      ]
     },
     "execution_count": 23,
     "metadata": {},
     "output_type": "execute_result"
    }
   ],
   "source": [
    "if sys.platform[:3] =='win':\n",
    "    data_loc = 'D:/Data/'\n",
    "else:\n",
    "    data_loc = \"/home/tom/data/\"\n",
    "\n",
    "filenm = \"haganCaseStudy1.csv\"\n",
    "df = pd.read_csv(data_loc+filenm, delimiter = ',')\n",
    "\n",
    "# v1 and v2 is the voltage coming out of the 2 solar cells\n",
    "# y is the position of the ping pong ball (in front of a light)\n",
    "df.head()"
   ]
  },
  {
   "cell_type": "code",
   "execution_count": 24,
   "metadata": {
    "collapsed": false
   },
   "outputs": [],
   "source": [
    "# Standardize the data\n",
    "v1     = df['v1'].values.reshape(-1,1)\n",
    "v1_std = StandardScaler().fit_transform(v1)\n",
    "v2     = df['v2'].values.reshape(-1,1)\n",
    "v2_std = StandardScaler().fit_transform(v2)\n",
    "y      = df['y'].values.reshape(-1,1)\n",
    "y_std  = StandardScaler().fit_transform(y)"
   ]
  },
  {
   "cell_type": "code",
   "execution_count": 25,
   "metadata": {
    "collapsed": false
   },
   "outputs": [],
   "source": [
    "# Split into train and test\n",
    "# Recombine into DF\n",
    "arr = np.concatenate([v1_std,v2_std,y_std], axis=1)\n",
    "cols = ['v1','v2','y']\n",
    "df = pd.DataFrame(arr, columns=cols)\n",
    "\n",
    "train, test = train_test_split(df, test_size=TEST_PCT)"
   ]
  },
  {
   "cell_type": "code",
   "execution_count": 26,
   "metadata": {
    "collapsed": false
   },
   "outputs": [],
   "source": [
    "X = train[['v1', 'v2']]\n",
    "Y = train[['y']]\n",
    "X_test = test[['v1', 'v2']]\n",
    "Y_test = test[['y']]"
   ]
  },
  {
   "cell_type": "code",
   "execution_count": 27,
   "metadata": {
    "collapsed": false
   },
   "outputs": [],
   "source": [
    "# See what the data looks like\n",
    "if PLOT:\n",
    "    a = plt.scatter(y_std, v1_std, s=5, color='blue',label='Voltage1')\n",
    "    b = plt.scatter(y_std, v2_std, s=5, color='red', label='Voltage2')\n",
    "    plt.legend(loc='lower right')\n",
    "    plt.xlabel('Position', fontsize=12)\n",
    "    plt.ylabel('Voltages', fontsize=12)\n",
    "    plt.show()"
   ]
  },
  {
   "cell_type": "code",
   "execution_count": 28,
   "metadata": {
    "collapsed": false
   },
   "outputs": [
    {
     "name": "stdout",
     "output_type": "stream",
     "text": [
      "regularizing\n"
     ]
    }
   ],
   "source": [
    "# Set up the network\n",
    "tf.reset_default_graph()\n",
    "x  = tf.placeholder(\"float\", shape=[None, FEATURE_COUNT])\n",
    "y_ = tf.placeholder(\"float\", shape=[None, 1])\n",
    "\n",
    "l1_w = init_weights([FEATURE_COUNT, L1_SIZE])\n",
    "l1_b = init_weights([1, L1_SIZE])\n",
    "l1_act = tf.nn.tanh(tf.matmul(x,l1_w + l1_b))\n",
    "\n",
    "l2_w = init_weights([L1_SIZE, 1])\n",
    "l2_b = init_weights([1,1])\n",
    "\n",
    "l2_out = tf.matmul(l1_act, l2_w + l2_b)\n",
    "\n",
    "if REGULARIZATION == 'L2':\n",
    "    print(\"regularizing\")\n",
    "    cost = tf.div(tf.add(\n",
    "            tf.reduce_sum(tf.square(l2_out - y_)),\n",
    "            tf.mul(LAMBDA, tf.reduce_sum(tf.square(l1_w)))\n",
    "        ), 2*X.size)\n",
    "else:\n",
    "    cost = tf.reduce_sum(tf.square(l2_out - y_))\n",
    "\n",
    "# Optimizer\n",
    "optimize = tf.train.AdamOptimizer(learning_rate=LEARNING_RATE).minimize(cost)\n",
    "\n",
    "# Accuracy\n",
    "score = tf.reduce_sum(tf.square(l2_out - y_))\n",
    "tf.scalar_summary('score', score)\n",
    "\n",
    "merged = tf.merge_all_summaries()"
   ]
  },
  {
   "cell_type": "code",
   "execution_count": 29,
   "metadata": {
    "collapsed": false
   },
   "outputs": [],
   "source": [
    "count = 1\n",
    "with tf.Session() as sess:\n",
    "    train_writer = tf.train.SummaryWriter(SUMMARIES_DIR + '/L2d', sess.graph)\n",
    "    for LAMBDA in np.linspace(.1,.3,20):\n",
    "        sess.run(tf.initialize_all_variables())\n",
    "        for i in range(EPOCHS):\n",
    "            sess.run(optimize, feed_dict = {x: X, y_: Y})\n",
    "        s, m = sess.run([score, merged], feed_dict = {x: X_test, y_: Y_test})\n",
    "        train_writer.add_summary(m, count)\n",
    "        count += 1\n",
    "    #tom = sess.run(l2_out, feed_dict = {x: X_test, y_: Y_test})\n",
    "    train_writer.close()"
   ]
  },
  {
   "cell_type": "code",
   "execution_count": 30,
   "metadata": {
    "collapsed": false
   },
   "outputs": [],
   "source": [
    "# See what the data looks like\n",
    "#plt.plot(X_test['v1'], tom, 'xb-')\n",
    "if PLOT:\n",
    "    a = plt.plot(X_test['v1'], tom,  color='blue',label='Prediction')\n",
    "    b = plt.plot(X_test['v1'],Y_test,  color='red',label='Actual')\n",
    "    plt.legend(loc='lower right')\n",
    "    plt.xlabel('Position', fontsize=12)\n",
    "    plt.ylabel('Voltages', fontsize=12)\n",
    "    plt.show()"
   ]
  }
 ],
 "metadata": {
  "anaconda-cloud": {},
  "kernelspec": {
   "display_name": "Python 3",
   "language": "python",
   "name": "python3"
  },
  "language_info": {
   "codemirror_mode": {
    "name": "ipython",
    "version": 3
   },
   "file_extension": ".py",
   "mimetype": "text/x-python",
   "name": "python",
   "nbconvert_exporter": "python",
   "pygments_lexer": "ipython3",
   "version": "3.5.2"
  }
 },
 "nbformat": 4,
 "nbformat_minor": 2
}

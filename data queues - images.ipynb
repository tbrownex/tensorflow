{
 "cells": [
  {
   "cell_type": "code",
   "execution_count": null,
   "metadata": {
    "collapsed": false,
    "deletable": true,
    "editable": true
   },
   "outputs": [],
   "source": [
    "import tensorflow as tf\n",
    "import numpy as np\n",
    "from PIL import Image\n",
    "import glob"
   ]
  },
  {
   "cell_type": "code",
   "execution_count": null,
   "metadata": {
    "collapsed": true
   },
   "outputs": [],
   "source": [
    "tf.reset_default_graph()\n",
    "\n",
    "# Set up the two queues: one for training and one for validation\n",
    "train_files = glob.glob(\"/home/tom/data/notMNIST/notMNIST_small/A/S*.png\")\n",
    "train_q     = tf.train.string_input_producer(train_files, num_epochs=1)\n",
    "vfiles      = tf.train.match_filenames_once(\"/home/tom/data/notMNIST/notMNIST_small/A/M*.png\")\n",
    "val_q       = tf.train.string_input_producer(vfiles, num_epochs=1)"
   ]
  },
  {
   "cell_type": "code",
   "execution_count": null,
   "metadata": {
    "collapsed": true
   },
   "outputs": [],
   "source": [
    "# Allow selection from either the training q or validation q, based on value of \"is-training\"\n",
    "is_training = tf.placeholder(tf.bool, shape=None)\n",
    "q_selector = tf.cond(is_training,\n",
    "                     lambda: tf.constant(0),\n",
    "                     lambda: tf.constant(1))\n",
    "q = tf.QueueBase.from_list(q_selector, [train_q, val_q])"
   ]
  },
  {
   "cell_type": "code",
   "execution_count": null,
   "metadata": {
    "collapsed": true
   },
   "outputs": [],
   "source": [
    "# Read and decode the image\n",
    "reader     = tf.WholeFileReader()\n",
    "key, value = reader.read(q)\n",
    "\n",
    "my_img = tf.image.decode_png(value)\n",
    "my_img.set_shape((28,28,1))\n",
    "\n",
    "image_batch = tf.train.shuffle_batch(\n",
    "    [my_img],\n",
    "    batch_size=5,\n",
    "    capacity=2000,\n",
    "    min_after_dequeue=10,\n",
    "    allow_smaller_final_batch=True)"
   ]
  },
  {
   "cell_type": "code",
   "execution_count": null,
   "metadata": {
    "collapsed": false,
    "deletable": true,
    "editable": true,
    "scrolled": true
   },
   "outputs": [],
   "source": [
    "init_all   = tf.global_variables_initializer()\n",
    "init_local = tf.local_variables_initializer()\n",
    "\n",
    "s = train_q.size\n",
    "\n",
    "count = 0\n",
    "\n",
    "with tf.Session() as sess:\n",
    "    sess.run(init_all)\n",
    "    sess.run(init_local)\n",
    "    coord = tf.train.Coordinator()\n",
    "    threads = tf.train.start_queue_runners(coord=coord)\n",
    "    with coord.stop_on_exception():\n",
    "        while not coord.should_stop():\n",
    "            print(sess.run(key, {is_training: True}))\n",
    "            count+=1\n",
    "    print(\"count: {}\".format(count))\n",
    "    #except tf.errors.OutOfRangeError:\n",
    "        \n",
    "    coord.request_stop()\n",
    "    coord.join(threads)"
   ]
  }
 ],
 "metadata": {
  "anaconda-cloud": {},
  "kernelspec": {
   "display_name": "Python [Root]",
   "language": "python",
   "name": "Python [Root]"
  },
  "language_info": {
   "codemirror_mode": {
    "name": "ipython",
    "version": 3
   },
   "file_extension": ".py",
   "mimetype": "text/x-python",
   "name": "python",
   "nbconvert_exporter": "python",
   "pygments_lexer": "ipython3",
   "version": "3.5.2"
  }
 },
 "nbformat": 4,
 "nbformat_minor": 2
}

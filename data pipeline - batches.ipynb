{
 "cells": [
  {
   "cell_type": "code",
   "execution_count": 8,
   "metadata": {
    "collapsed": true,
    "deletable": true,
    "editable": true
   },
   "outputs": [],
   "source": [
    "import numpy as np\n",
    "#from numpy import random\n",
    "import tensorflow as tf\n",
    "\n",
    "DATA_LOC   = \"/home/tom/ML/data/rectangles/\"\n",
    "EPOCHS     = 1\n",
    "BATCH_SIZE = 300\n",
    "FILENAME   = 'rectangles-images_val.txt'"
   ]
  },
  {
   "cell_type": "code",
   "execution_count": 9,
   "metadata": {
    "collapsed": true,
    "deletable": true,
    "editable": true
   },
   "outputs": [],
   "source": [
    "# \"d\" is the data; \"l\" is the label; \"c\" is the iteration\n",
    "def view_data(d,l,c):\n",
    "    print(c, \":\", d[4][4])"
   ]
  },
  {
   "cell_type": "code",
   "execution_count": 10,
   "metadata": {
    "collapsed": false,
    "deletable": true,
    "editable": true
   },
   "outputs": [],
   "source": [
    "tf.reset_default_graph()\n",
    "\n",
    "# \"files\" will usually contain many entries but in this case all the data is in 1 file\n",
    "files          = tf.train.match_filenames_once(DATA_LOC + FILENAME)\n",
    "\n",
    "filename_queue = tf.train.string_input_producer(files, num_epochs=EPOCHS)\n",
    "reader         = tf.TextLineReader(skip_header_lines=1)\n",
    "key, value     = reader.read(filename_queue)\n",
    "\n",
    "# For the \"rectangles\" data set, 8x28 columns of pixel values + the last\n",
    "# column is the label: 0 or 1\n",
    "defaults = [[0.] for x in range(785)]\n",
    "cols = [x for x in range(785)]\n",
    "T = tf.decode_csv(value, record_defaults=defaults)\n",
    "T_data = T[:784]\n",
    "T_label = T[784:785]"
   ]
  },
  {
   "cell_type": "code",
   "execution_count": 11,
   "metadata": {
    "collapsed": true,
    "deletable": true,
    "editable": true
   },
   "outputs": [],
   "source": [
    "min_dq = 1000\n",
    "# set the capacity with a standard formula suggested by tf guys\n",
    "cap = min_dq + 3 * BATCH_SIZE\n",
    "\n",
    "data_batch, label_batch = tf.train.shuffle_batch(\n",
    "    [T_data, T_label], batch_size=BATCH_SIZE, capacity=cap,\n",
    "    min_after_dequeue=min_dq, allow_smaller_final_batch=True)"
   ]
  },
  {
   "cell_type": "code",
   "execution_count": 12,
   "metadata": {
    "collapsed": false,
    "deletable": true,
    "editable": true
   },
   "outputs": [
    {
     "name": "stdout",
     "output_type": "stream",
     "text": [
      "1 : 0.368627\n",
      "2 : 0.435294\n",
      "3 : 0.74902\n",
      "4 : 0.294118\n",
      "5 : 0.243137\n",
      "6 : 0.298039\n",
      "7 : 0.427451\n",
      "8 : 0.490196\n",
      "9 : 0.87451\n",
      "10 : 0.752941\n",
      "11 : 0.403922\n",
      "12 : 0.266667\n",
      "13 : 0.631373\n",
      "14 : 0.819608\n",
      "15 : 0.439216\n",
      "16 : 0.356863\n",
      "17 : 0.2\n",
      "18 : 0.0862745\n",
      "19 : 0.478431\n",
      "20 : 0.0\n",
      "21 : 0.580392\n",
      "All done\n",
      "Playing WAVE '/usr/share/sounds/bicycle_bell.wav' : Signed 16 bit Little Endian, Rate 11127 Hz, Mono\n"
     ]
    }
   ],
   "source": [
    "count=0\n",
    "with tf.Session() as sess:\n",
    "    coord = tf.train.Coordinator()\n",
    "    sess.run(tf.global_variables_initializer())\n",
    "    sess.run(tf.local_variables_initializer())\n",
    "    tf.train.start_queue_runners(coord=coord)\n",
    "    try:\n",
    "        while not coord.should_stop():\n",
    "            count+=1\n",
    "            d,l = sess.run([data_batch, label_batch])\n",
    "            view_data(d,l,count)\n",
    "    except tf.errors.OutOfRangeError:\n",
    "        print('All done')\n",
    "    finally:\n",
    "        coord.request_stop()\n",
    "        !aplay /usr/share/sounds/bicycle_bell.wav"
   ]
  },
  {
   "cell_type": "code",
   "execution_count": null,
   "metadata": {
    "collapsed": true
   },
   "outputs": [],
   "source": []
  }
 ],
 "metadata": {
  "anaconda-cloud": {},
  "kernelspec": {
   "display_name": "Python 3",
   "language": "python",
   "name": "python3"
  },
  "language_info": {
   "codemirror_mode": {
    "name": "ipython",
    "version": 3
   },
   "file_extension": ".py",
   "mimetype": "text/x-python",
   "name": "python",
   "nbconvert_exporter": "python",
   "pygments_lexer": "ipython3",
   "version": "3.5.2"
  }
 },
 "nbformat": 4,
 "nbformat_minor": 0
}

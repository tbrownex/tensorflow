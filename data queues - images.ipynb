{
 "cells": [
  {
   "cell_type": "code",
   "execution_count": 3,
   "metadata": {
    "collapsed": true
   },
   "outputs": [],
   "source": [
    "import tensorflow as tf\n",
    "import numpy as np\n",
    "from PIL import Image"
   ]
  },
  {
   "cell_type": "code",
   "execution_count": 38,
   "metadata": {
    "collapsed": false
   },
   "outputs": [],
   "source": [
    "tf.reset_default_graph()\n",
    "\n",
    "files          = tf.train.match_filenames_once('/home/tom/data/notMNIST/notMNIST_small/A/M*.png')\n",
    "filename_queue = tf.train.string_input_producer(files, num_epochs=10)\n",
    "\n",
    "reader     = tf.WholeFileReader()\n",
    "key, value = reader.read(filename_queue)\n",
    "\n",
    "my_img = tf.image.decode_png(value)\n",
    "my_img.set_shape((28,28,1))\n",
    "\n",
    "image_batch = tf.train.shuffle_batch(\n",
    "    [my_img],\n",
    "    batch_size=5,\n",
    "    capacity=2000,\n",
    "    min_after_dequeue=10,\n",
    "    allow_smaller_final_batch=True)"
   ]
  },
  {
   "cell_type": "code",
   "execution_count": 47,
   "metadata": {
    "collapsed": false
   },
   "outputs": [
    {
     "name": "stdout",
     "output_type": "stream",
     "text": [
      "12\n"
     ]
    }
   ],
   "source": [
    "count = 0\n",
    "tom = ''\n",
    "\n",
    "init_all = tf.initialize_all_variables()\n",
    "init_local = tf.initialize_local_variables()\n",
    "\n",
    "sess = tf.InteractiveSession()\n",
    "with sess.as_default():\n",
    "    sess.run(init_all)\n",
    "    sess.run(init_local)\n",
    "    coord = tf.train.Coordinator()\n",
    "    threads = tf.train.start_queue_runners(coord=coord)\n",
    "    try:\n",
    "        for x in range(12):\n",
    "            tom = image_batch.eval()\n",
    "            count+=1\n",
    "    except tf.errors.OutOfRangeError:\n",
    "        print('All done')\n",
    "    finally:\n",
    "        print(count)\n",
    "        coord.request_stop()\n",
    "    coord.request_stop()\n",
    "    coord.join(threads)"
   ]
  },
  {
   "cell_type": "code",
   "execution_count": 48,
   "metadata": {
    "collapsed": false
   },
   "outputs": [
    {
     "data": {
      "text/plain": [
       "(5, 28, 28, 1)"
      ]
     },
     "execution_count": 48,
     "metadata": {},
     "output_type": "execute_result"
    }
   ],
   "source": [
    "tom.shape"
   ]
  },
  {
   "cell_type": "code",
   "execution_count": null,
   "metadata": {
    "collapsed": true
   },
   "outputs": [],
   "source": []
  }
 ],
 "metadata": {
  "anaconda-cloud": {},
  "kernelspec": {
   "display_name": "Python [conda env:tensorflow]",
   "language": "python",
   "name": "conda-env-tensorflow-py"
  },
  "language_info": {
   "codemirror_mode": {
    "name": "ipython",
    "version": 3
   },
   "file_extension": ".py",
   "mimetype": "text/x-python",
   "name": "python",
   "nbconvert_exporter": "python",
   "pygments_lexer": "ipython3",
   "version": "3.5.2"
  }
 },
 "nbformat": 4,
 "nbformat_minor": 2
}

{
 "cells": [
  {
   "cell_type": "markdown",
   "metadata": {
    "deletable": true,
    "editable": true
   },
   "source": [
    "#### I tried tweaking the hard-coded values shown (test_pct, num_feat, trees) but could not get above 64% accuracy. Increasing the number of trees above 500 or so crashes the kernel"
   ]
  },
  {
   "cell_type": "code",
   "execution_count": null,
   "metadata": {
    "collapsed": false,
    "deletable": true,
    "editable": true
   },
   "outputs": [],
   "source": [
    "from sklearn.ensemble import RandomForestRegressor\n",
    "import pandas as pd\n",
    "import numpy as np\n",
    "import os\n",
    "import sys\n",
    "import matplotlib.pyplot as plt\n",
    "from sklearn.model_selection import train_test_split\n",
    "import time\n",
    "from operator import itemgetter\n",
    "\n",
    "TEST_PCT = 0.60\n",
    "NUM_FEAT = 7\n",
    "NUM_TREES = 300\n",
    "COLS = ['density', 'median_age', 'median_hh_income', 'pct_hispanic',\n",
    "        'pct_white', 'pct_black', 'avg_hh_size']"
   ]
  },
  {
   "cell_type": "code",
   "execution_count": null,
   "metadata": {
    "collapsed": false,
    "deletable": true,
    "editable": true
   },
   "outputs": [],
   "source": [
    "# Load the data\n",
    "if sys.platform[:3] =='win':\n",
    "    data_loc = 'D:/Data/Loyalty Vision/'\n",
    "else:\n",
    "    data_loc = \"/home/tom/ML/data/CBG/\"\n",
    "\n",
    "filenm = \"CBG_prepared.csv\"\n",
    "df = pd.read_csv(data_loc+filenm, delimiter=',')\n",
    "df = df[:10000]"
   ]
  },
  {
   "cell_type": "code",
   "execution_count": null,
   "metadata": {
    "collapsed": false,
    "deletable": true,
    "editable": true
   },
   "outputs": [],
   "source": [
    "# Split into Train and Test\n",
    "df_train, df_test = train_test_split(df, test_size=TEST_PCT)\n",
    "\n",
    "train_x = df_train[COLS]\n",
    "train_y = df_train['spend_per_hh']\n",
    "test_x = df_test[COLS]\n",
    "test_y = df_test['spend_per_hh']\n",
    "print('Record counts    Training: {:,}   Test  {:,}'.format(df_train.shape[0], df_test.shape[0]))"
   ]
  },
  {
   "cell_type": "code",
   "execution_count": null,
   "metadata": {
    "collapsed": false,
    "deletable": true,
    "editable": true
   },
   "outputs": [],
   "source": [
    "# Run the job\n",
    "start = time.time()\n",
    "\n",
    "# Fit regression model\n",
    "regr = RandomForestRegressor(oob_score=True, max_features=NUM_FEAT, n_estimators=NUM_TREES)\n",
    "regr.fit(train_x, train_y)\n",
    "print('Time to train: {:.0f} seconds'.format(time.time() - start))\n",
    "!aplay /home/tom/bicycle_bell.wav"
   ]
  },
  {
   "cell_type": "code",
   "execution_count": null,
   "metadata": {
    "collapsed": true,
    "deletable": true,
    "editable": true
   },
   "outputs": [],
   "source": [
    "# Get the predictions\n",
    "y_preds = regr.predict(test_x)\n",
    "y_preds = pd.DataFrame(y_preds, columns=['pred'])"
   ]
  },
  {
   "cell_type": "code",
   "execution_count": null,
   "metadata": {
    "collapsed": false,
    "deletable": true,
    "editable": true
   },
   "outputs": [],
   "source": [
    "# Compare actual to predicted\n",
    "actual = pd.DataFrame({'spend_per_hh': pd.Series(test_y)})\n",
    "actual = actual.reset_index(drop=True)\n",
    "actual.columns =['actual']\n",
    "\n",
    "results = y_preds.join(actual)\n",
    "\n",
    "results['diff'] = abs(results['actual'] - results['pred'])\n",
    "\n",
    "print('{:<10}{:<10}{}'.format('Column', 'Mean', 'StdDev'))\n",
    "for x in results.columns:\n",
    "    print('{:<10}{:<10.2f}{:.2f}'.format(x,results[x].mean(),results[x].std()))"
   ]
  },
  {
   "cell_type": "code",
   "execution_count": null,
   "metadata": {
    "collapsed": false,
    "deletable": true,
    "editable": true
   },
   "outputs": [],
   "source": [
    "import matplotlib.mlab as mlab\n",
    "bins = [-10000, -700,-600,-500,-400,-200,0,200,400,500,600,700,10000]\n",
    "n, bins, patches = plt.hist(results['pred']-results['actual'], bins=bins, facecolor='green', alpha=.3)\n",
    "plt.show()"
   ]
  },
  {
   "cell_type": "code",
   "execution_count": null,
   "metadata": {
    "collapsed": false,
    "deletable": true,
    "editable": true
   },
   "outputs": [],
   "source": [
    "# This will show the relative importance of each feature\n",
    "relative_importance = list(zip(COLS, regr.feature_importances_))\n",
    "print('{:<20}{}'.format('Feature', 'Relative Importance'))\n",
    "for a,b in sorted(relative_importance, key=itemgetter(1), reverse=True):\n",
    "    print('{:<20}{:.2}'.format(a, b))"
   ]
  },
  {
   "cell_type": "code",
   "execution_count": null,
   "metadata": {
    "collapsed": false,
    "deletable": true,
    "editable": true
   },
   "outputs": [],
   "source": [
    "count,division = np.histogram(results['diff'])\n",
    "count.shape"
   ]
  },
  {
   "cell_type": "code",
   "execution_count": null,
   "metadata": {
    "collapsed": true
   },
   "outputs": [],
   "source": []
  }
 ],
 "metadata": {
  "anaconda-cloud": {},
  "kernelspec": {
   "display_name": "Python 3",
   "language": "python",
   "name": "python3"
  },
  "language_info": {
   "codemirror_mode": {
    "name": "ipython",
    "version": 3
   },
   "file_extension": ".py",
   "mimetype": "text/x-python",
   "name": "python",
   "nbconvert_exporter": "python",
   "pygments_lexer": "ipython3",
   "version": "3.5.2"
  }
 },
 "nbformat": 4,
 "nbformat_minor": 1
}

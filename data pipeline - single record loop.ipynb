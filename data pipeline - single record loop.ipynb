{
 "cells": [
  {
   "cell_type": "code",
   "execution_count": null,
   "metadata": {
    "collapsed": true
   },
   "outputs": [],
   "source": [
    "import numpy as np\n",
    "import tensorflow as tf\n",
    "\n",
    "DATA_LOC = \"/home/tom/data/\"\n",
    "FILENAME = 'rectangles-images_val.txt'\n",
    "EPOCHS   = 5"
   ]
  },
  {
   "cell_type": "code",
   "execution_count": null,
   "metadata": {
    "collapsed": true
   },
   "outputs": [],
   "source": [
    "# \"k\" is the filename; \"v\" the value; \"r\" the record\n",
    "def view_data(k,v,t):\n",
    "    print('Key:        {}'.format(k))\n",
    "    print('Value:      {}'.format(v))\n",
    "    print('Parsed rec: {}'.format(t))\n",
    "    print('\\n')"
   ]
  },
  {
   "cell_type": "code",
   "execution_count": null,
   "metadata": {
    "collapsed": false
   },
   "outputs": [],
   "source": [
    "tf.reset_default_graph()\n",
    "\n",
    "# \"files\" will usually contain many entries but in this case all the data is in\n",
    "# one file\n",
    "files          = tf.train.match_filenames_once(DATA_LOC + FILENAME)\n",
    "filename_queue = tf.train.string_input_producer(files, num_epochs=EPOCHS)\n",
    "reader         = tf.TextLineReader(skip_header_lines=1)\n",
    "key, value     = reader.read(filename_queue)\n",
    "\n",
    "# For the \"rectangles\" data set, 8x28 columns of pixel values + the last\n",
    "# column is the label: 0 or 1\n",
    "defaults = [[0.] for x in range(785)]\n",
    "T = tf.decode_csv(value, record_defaults=defaults)"
   ]
  },
  {
   "cell_type": "code",
   "execution_count": null,
   "metadata": {
    "collapsed": true
   },
   "outputs": [],
   "source": [
    "with tf.Session() as sess:\n",
    "    coord = tf.train.Coordinator()\n",
    "    sess.run(tf.initialize_all_variables())\n",
    "    sess.run(tf.initialize_local_variables())\n",
    "    tf.train.start_queue_runners(coord=coord)\n",
    "    while reader.num_records_produced().eval() < 3:\n",
    "            k,v,t = sess.run([key,value,T])\n",
    "            view_data(k,v,t)\n",
    "    coord.request_stop()"
   ]
  },
  {
   "cell_type": "code",
   "execution_count": null,
   "metadata": {
    "collapsed": true
   },
   "outputs": [],
   "source": []
  }
 ],
 "metadata": {
  "anaconda-cloud": {},
  "kernelspec": {
   "display_name": "Python [default]",
   "language": "python",
   "name": "python3"
  },
  "language_info": {
   "codemirror_mode": {
    "name": "ipython",
    "version": 3
   },
   "file_extension": ".py",
   "mimetype": "text/x-python",
   "name": "python",
   "nbconvert_exporter": "python",
   "pygments_lexer": "ipython3",
   "version": "3.5.2"
  }
 },
 "nbformat": 4,
 "nbformat_minor": 1
}

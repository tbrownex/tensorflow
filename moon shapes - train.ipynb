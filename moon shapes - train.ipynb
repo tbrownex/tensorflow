{
 "cells": [
  {
   "cell_type": "markdown",
   "metadata": {},
   "source": [
    "#### From this site: https://github.com/jasonbaldridge/try-tf"
   ]
  },
  {
   "cell_type": "code",
   "execution_count": null,
   "metadata": {
    "collapsed": false
   },
   "outputs": [],
   "source": [
    "import tensorflow as tf\n",
    "import pandas     as pd\n",
    "import numpy      as np\n",
    "import sys\n",
    "import matplotlib.pyplot as plt\n",
    "from   sklearn.utils           import shuffle\n",
    "from   sklearn.model_selection import train_test_split\n",
    "\n",
    "FEATURE_COUNT = 2\n",
    "L1_SIZE       = 5           # How many nodes in layer 1\n",
    "DROPOUT_KEEP  = 1.0\n",
    "BATCH_SIZE    = 100\n",
    "NUM_CLASSES   = 2\n",
    "LR            = .01\n",
    "EPOCHS        = 500\n",
    "FILENM        = 'moons_train.csv'\n",
    "SAVE_DIR      = \"/home/tom/tf_checkpoints/\"\n",
    "SAVE_FILE     = \"moons\"\n",
    "TB_DIR        = '/home/tom/tf_logs/'\n",
    "PLOT_DATA     = False\n",
    "VALID_PCT     = 0.15\n",
    "EARLY_STOP    = 90\n",
    "L1_BN         = True             # Batch Normalization"
   ]
  },
  {
   "cell_type": "code",
   "execution_count": null,
   "metadata": {
    "collapsed": true
   },
   "outputs": [],
   "source": [
    "# Init weights method. (Lifted from Delip Rao: http://deliprao.com/archives/100)\n",
    "def init_weights(shape, init_method='xavier', xavier_params = (None, None)):\n",
    "    if init_method == 'zeros':\n",
    "        return tf.Variable(tf.zeros(shape, dtype=tf.float32))\n",
    "    elif init_method == 'uniform':\n",
    "        return tf.Variable(tf.random_normal(shape, stddev=0.01, dtype=tf.float32))\n",
    "    else: #xavier\n",
    "        (fan_in, fan_out) = xavier_params\n",
    "        low = -4*np.sqrt(6.0/(fan_in + fan_out)) # {sigmoid:4, tanh:1} \n",
    "        high = 4*np.sqrt(6.0/(fan_in + fan_out))\n",
    "        return tf.Variable(tf.random_uniform(shape, minval=low, maxval=high, dtype=tf.float32))"
   ]
  },
  {
   "cell_type": "code",
   "execution_count": null,
   "metadata": {
    "collapsed": false
   },
   "outputs": [],
   "source": [
    "if sys.platform[:3] =='win':\n",
    "    data_loc = 'D:/Data/'\n",
    "else:\n",
    "    data_loc = \"/home/tom/data/\"\n",
    "\n",
    "df = pd.read_csv(data_loc+FILENM, header=None)"
   ]
  },
  {
   "cell_type": "code",
   "execution_count": null,
   "metadata": {
    "collapsed": false
   },
   "outputs": [],
   "source": [
    "if PLOT_DATA:\n",
    "    df0= df[df[0]==0]\n",
    "    df1= df[df[0]==1]\n",
    "    del(df0[0])\n",
    "    del(df1[0])\n",
    "\n",
    "    plt.figure(figsize=(5, 5))\n",
    "    plt.scatter(df0[1], df0[2], color='r')\n",
    "    plt.scatter(df1[1], df1[2])\n",
    "    plt.show()"
   ]
  },
  {
   "cell_type": "code",
   "execution_count": null,
   "metadata": {
    "collapsed": true
   },
   "outputs": [],
   "source": [
    "# Both the data and the label are in the passed dataframe\n",
    "# Split them apart and put into numpy array\n",
    "def split_label(df):\n",
    "    labels = np.array(df[0], dtype='f')\n",
    "    # convert labels to a \"one-hot\" vector\n",
    "    labels = (np.arange(NUM_CLASSES) == labels[:, None]).astype(np.float32)\n",
    "\n",
    "    data = df.iloc[:,1:]\n",
    "    # Turn \"data\" into a np array which will be used to load the tensor\n",
    "    data = np.array(data, dtype='f')\n",
    "    return data, labels"
   ]
  },
  {
   "cell_type": "code",
   "execution_count": null,
   "metadata": {
    "collapsed": false
   },
   "outputs": [],
   "source": [
    "df_train, df_val = train_test_split(df, test_size=VALID_PCT)\n",
    "print('Training set:  {:,} rows'.format(df.shape[0]))\n",
    "\n",
    "# Split the features from the labels\n",
    "train_data, train_labels = split_label(df_train)\n",
    "val_data,   val_labels   = split_label(df_val)"
   ]
  },
  {
   "cell_type": "code",
   "execution_count": null,
   "metadata": {
    "collapsed": true
   },
   "outputs": [],
   "source": [
    "tf.reset_default_graph()\n",
    "\n",
    "image_batch = tf.placeholder(tf.float32, shape=[None, FEATURE_COUNT], name=\"image\")\n",
    "label_batch = tf.placeholder(tf.float32, shape=[None, FEATURE_COUNT], name=\"label\")\n",
    "dropout     = tf.placeholder(tf.float32, name=\"drop\")\n",
    "\n",
    "l0_w = init_weights(\n",
    "    [FEATURE_COUNT, L1_SIZE],\n",
    "    'xavier',\n",
    "    xavier_params=(FEATURE_COUNT, L1_SIZE))\n",
    "l0_b = init_weights([1,L1_SIZE],'zeros')"
   ]
  },
  {
   "cell_type": "code",
   "execution_count": null,
   "metadata": {
    "collapsed": false
   },
   "outputs": [],
   "source": [
    "l0_out = tf.nn.tanh(tf.matmul(image_batch,l0_w + l0_b), name=\"l0\")\n",
    "l0_out = tf.nn.dropout(l0_out, keep_prob=dropout)\n",
    "if L1_BN:\n",
    "    l0_out = tf.contrib.layers.batch_norm(l0_out)\n",
    "\n",
    "l1_w = init_weights(\n",
    "    [L1_SIZE, NUM_CLASSES],\n",
    "    'xavier',\n",
    "    xavier_params=(L1_SIZE, NUM_CLASSES))\n",
    "l1_b = init_weights([1,NUM_CLASSES],'zeros')\n",
    "y    = tf.nn.softmax(tf.matmul(l0_out, l1_w) + l1_b, name=\"y\")"
   ]
  },
  {
   "cell_type": "code",
   "execution_count": null,
   "metadata": {
    "collapsed": false
   },
   "outputs": [],
   "source": [
    "# Optimization\n",
    "cross_entropy = -tf.reduce_sum(label_batch*tf.log(y))\n",
    "optimize      = tf.train.AdamOptimizer(LR, name=\"optimize\").minimize(cross_entropy)\n",
    "\n",
    "# Evaluation\n",
    "correct_prediction = tf.equal(tf.argmax(y,1), tf.argmax(label_batch,1))\n",
    "accuracy           = tf.reduce_mean(tf.cast(correct_prediction, \"float\"), name=\"accuracy\")"
   ]
  },
  {
   "cell_type": "code",
   "execution_count": null,
   "metadata": {
    "collapsed": true
   },
   "outputs": [],
   "source": [
    "# Capture Tensorboard data\n",
    "summary_loss     = tf.scalar_summary('Loss function', cross_entropy)\n",
    "summary_accuracy = tf.scalar_summary('Validation', accuracy)\n",
    "count = 0"
   ]
  },
  {
   "cell_type": "code",
   "execution_count": null,
   "metadata": {
    "collapsed": false
   },
   "outputs": [],
   "source": [
    "num_training_batches = int(len(train_data)/BATCH_SIZE)\n",
    "stop_count = 0\n",
    "best_score = 0.\n",
    "\n",
    "saver = tf.train.Saver()\n",
    "sess = tf.Session()\n",
    "sess.run(tf.initialize_all_variables())\n",
    "train_writer = tf.train.SummaryWriter(TB_DIR + 'run4', sess.graph)\n",
    "for i in range(EPOCHS):\n",
    "    x,y = shuffle(train_data,train_labels)\n",
    "    for j in range(num_training_batches):\n",
    "            mini_x  = x[j*BATCH_SIZE:j*BATCH_SIZE+BATCH_SIZE]\n",
    "            mini_y = y[j*BATCH_SIZE:j*BATCH_SIZE+BATCH_SIZE]\n",
    "            _, TB = sess.run([optimize, summary_loss], feed_dict={image_batch:mini_x,\n",
    "                                                                  label_batch:mini_y,\n",
    "                                                                  dropout:DROPOUT_KEEP})\n",
    "            if j % 5 == 0:\n",
    "                count += 1\n",
    "                train_writer.add_summary(TB, count)\n",
    "    score, TB = sess.run([accuracy, summary_accuracy], feed_dict={image_batch:val_data,\n",
    "                                                                  label_batch:val_labels,\n",
    "                                                                  dropout:1.0})\n",
    "    train_writer.add_summary(TB, i)\n",
    "    if score > best_score:\n",
    "        best_score = score\n",
    "    else:\n",
    "        stop_count += 1\n",
    "    if stop_count > EARLY_STOP:\n",
    "        print(\"Stopping early\")\n",
    "        break\n",
    "\n",
    "saver.save(sess, SAVE_DIR+SAVE_FILE)\n",
    "train_writer.close()\n",
    "sess.close()\n",
    "!aplay /usr/share/sounds/bicycle_bell.wav"
   ]
  },
  {
   "cell_type": "code",
   "execution_count": null,
   "metadata": {
    "collapsed": true
   },
   "outputs": [],
   "source": []
  }
 ],
 "metadata": {
  "anaconda-cloud": {},
  "kernelspec": {
   "display_name": "Python [default]",
   "language": "python",
   "name": "python3"
  },
  "language_info": {
   "codemirror_mode": {
    "name": "ipython",
    "version": 3
   },
   "file_extension": ".py",
   "mimetype": "text/x-python",
   "name": "python",
   "nbconvert_exporter": "python",
   "pygments_lexer": "ipython3",
   "version": "3.5.2"
  }
 },
 "nbformat": 4,
 "nbformat_minor": 2
}

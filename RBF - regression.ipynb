{
 "cells": [
  {
   "cell_type": "markdown",
   "metadata": {},
   "source": [
    "### TODO\n",
    "Add Regularization\n",
    "Selection of Centers via Orthogonal Lease Squares\n",
    "Plot the erros based on different parameter settings\n",
    "Gradient Descent optimization\n",
    "Different values of SIGMA\n",
    "Different kernel functions\n",
    "Multiple Dimensions\n",
    "Pure Tensorflow (no dataframes)"
   ]
  },
  {
   "cell_type": "code",
   "execution_count": null,
   "metadata": {
    "collapsed": true
   },
   "outputs": [],
   "source": [
    "import pandas as pd\n",
    "import numpy as np\n",
    "import tensorflow as tf\n",
    "from sklearn.cluster import KMeans\n",
    "#from sklearn.metrics.pairwise import euclidean_distances\n",
    "from sklearn.model_selection import train_test_split\n",
    "import sys\n",
    "\n",
    "import matplotlib.pyplot as plt\n",
    "\n",
    "SIGMA          = 2.\n",
    "NUM_NODES      = 8\n",
    "TEST_PCT       = 0.2\n",
    "COLS           = ['A']\n",
    "TARGET_COL     = 'Target'\n",
    "CLUSTER_METHOD = 'random'        # \"km\" \"random\""
   ]
  },
  {
   "cell_type": "code",
   "execution_count": null,
   "metadata": {
    "collapsed": true
   },
   "outputs": [],
   "source": [
    "# Load the data\n",
    "if sys.platform[:3] =='win': data_loc = 'D:/Data/Loyalty Vision/'\n",
    "else: data_loc = \"/home/tom/data/\"\n",
    "filenm = \"rbf_data.csv\"\n",
    "df = pd.read_csv(data_loc+filenm, delimiter=',')"
   ]
  },
  {
   "cell_type": "code",
   "execution_count": null,
   "metadata": {
    "collapsed": false
   },
   "outputs": [],
   "source": [
    "# Split into Train and Test\n",
    "df_train, df_test = train_test_split(df, test_size=TEST_PCT)\n",
    "\n",
    "train_x = df_train[COLS]\n",
    "train_y = pd.DataFrame(df_train[TARGET_COL])\n",
    "test_x = df_test[COLS]\n",
    "test_y = df_test[TARGET_COL]\n",
    "print('Rec Counts  Training: {:,} Test  {:,}'.format(df_train.shape[0], df_test.shape[0]))"
   ]
  },
  {
   "cell_type": "code",
   "execution_count": null,
   "metadata": {
    "collapsed": false
   },
   "outputs": [],
   "source": [
    "# Each node has a Center, randomly assigned. Distances are computed to each Center\n",
    "if CLUSTER_METHOD == 'km':\n",
    "    print('Clustering via k-means')\n",
    "    centers = KMeans(n_clusters=NUM_NODES).fit(train_x).cluster_centers_\n",
    "else:\n",
    "    print('Clustering via random sample')\n",
    "    centers = np.array(train_x.sample(NUM_NODES)['A']).reshape(NUM_NODES,1)"
   ]
  },
  {
   "cell_type": "code",
   "execution_count": null,
   "metadata": {
    "collapsed": false
   },
   "outputs": [],
   "source": [
    "# Set up the design matrix\n",
    "c   = tf.placeholder(\"float\", shape=[train_x.shape[1]])\n",
    "x   = tf.placeholder(\"float\", shape=[None,train_x.shape[1]])\n",
    "y_  = tf.placeholder(\"float\", shape=[None,train_y.shape[1]])\n",
    "DM  = tf.placeholder(\"float\", shape=[None,NUM_NODES])\n",
    "#\n",
    "# \"rbf\" is the radial basis function. Each \"x\" is processed by each node, so for 50\n",
    "# samples and a 3-node network, you'd produce a 50x3 array\n",
    "# Each node will have a different \"c\" Center but otherwise the same\n",
    "rbf = tf.exp(-tf.div(tf.pow(tf.sub(x, c),2), tf.pow(SIGMA,2)))\n",
    "\n",
    "# Loop through the nodes. Use a different \"c\" each time and accumulate results in rbf_array\n",
    "# The array has an initial \"zeros\" just to get the shape right and allow \"insert\"\n",
    "rbf_array = np.zeros(shape=[len(train_x),1])\n",
    "\n",
    "for i in range(NUM_NODES):\n",
    "    with tf.Session() as sess:\n",
    "        sess.run(tf.initialize_all_variables())\n",
    "        tom = sess.run(rbf, feed_dict={x: train_x, c: centers[i]})\n",
    "    rbf_array = np.insert(rbf_array, i+1, tom.flatten(), axis=1)\n",
    "\n",
    "# Now you can delete that placeholder column of zeros\n",
    "rbf_array = np.delete(rbf_array,0, axis=1)"
   ]
  },
  {
   "cell_type": "markdown",
   "metadata": {},
   "source": [
    "#### Optimize the weights\n",
    "With a series of matrix manipulations"
   ]
  },
  {
   "cell_type": "code",
   "execution_count": null,
   "metadata": {
    "collapsed": false
   },
   "outputs": [],
   "source": [
    "step1 = tf.matmul(DM, DM, transpose_a=True)\n",
    "step2 = tf.matrix_inverse(step1)\n",
    "step3 = tf.matmul(step2,DM, transpose_b=True)\n",
    "weights = tf.matmul(step3, y_)"
   ]
  },
  {
   "cell_type": "markdown",
   "metadata": {},
   "source": [
    "#### Run the optimization job"
   ]
  },
  {
   "cell_type": "code",
   "execution_count": null,
   "metadata": {
    "collapsed": false
   },
   "outputs": [],
   "source": [
    "with tf.Session() as sess:\n",
    "    sess.run(tf.initialize_all_variables())\n",
    "    opt_weights = sess.run(weights, feed_dict={DM: rbf_array, y_: train_y})"
   ]
  },
  {
   "cell_type": "markdown",
   "metadata": {},
   "source": [
    "#### Generate fitted values"
   ]
  },
  {
   "cell_type": "code",
   "execution_count": null,
   "metadata": {
    "collapsed": false
   },
   "outputs": [],
   "source": [
    "# Now that the weights are optimized, run the test batch through and see what you get\n",
    "# First, generate a new Design Matrix, which is the test_x values run through the rbf\n",
    "rbf_array = np.zeros(shape=[len(test_x),1])\n",
    "\n",
    "for i in range(NUM_NODES):\n",
    "    with tf.Session() as sess:\n",
    "        sess.run(tf.initialize_all_variables())\n",
    "        tom = sess.run(rbf, feed_dict={x: test_x, c: centers[i]})\n",
    "    rbf_array = np.insert(rbf_array, i+1, tom.flatten(), axis=1)\n",
    "rbf_array = np.delete(rbf_array,0, axis=1)\n",
    "\n",
    "# Now multiply the DM by the weights for the fitted values\n",
    "final = tf.matmul(DM, weights)\n",
    "with tf.Session() as sess:\n",
    "    fitted_y = sess.run(final, feed_dict={DM: rbf_array, weights: opt_weights})"
   ]
  },
  {
   "cell_type": "code",
   "execution_count": null,
   "metadata": {
    "collapsed": false
   },
   "outputs": [],
   "source": [
    "rmse = np.sqrt(np.mean((fitted_y-test_y.values.reshape(100,1) )**2))\n",
    "print('RMSE: {:.2f}'.format(rmse))"
   ]
  },
  {
   "cell_type": "code",
   "execution_count": null,
   "metadata": {
    "collapsed": false
   },
   "outputs": [],
   "source": [
    "# Plot the results\n",
    "with plt.style.context('seaborn-whitegrid'):\n",
    "    plt.scatter(test_x,test_y, label='Actual')\n",
    "    plt.scatter(test_x, fitted_y, label='Fitted',c='red')\n",
    "    plt.xlabel(\"X value\")\n",
    "    plt.ylabel(\"Y value\")\n",
    "    plt.legend(loc='upper left')\n",
    "    plt.show()"
   ]
  },
  {
   "cell_type": "code",
   "execution_count": null,
   "metadata": {
    "collapsed": true
   },
   "outputs": [],
   "source": []
  }
 ],
 "metadata": {
  "anaconda-cloud": {},
  "kernelspec": {
   "display_name": "Python [default]",
   "language": "python",
   "name": "python3"
  },
  "language_info": {
   "codemirror_mode": {
    "name": "ipython",
    "version": 3
   },
   "file_extension": ".py",
   "mimetype": "text/x-python",
   "name": "python",
   "nbconvert_exporter": "python",
   "pygments_lexer": "ipython3",
   "version": "3.5.2"
  }
 },
 "nbformat": 4,
 "nbformat_minor": 1
}

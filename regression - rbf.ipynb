{
 "cells": [
  {
   "cell_type": "code",
   "execution_count": 1,
   "metadata": {
    "collapsed": true
   },
   "outputs": [],
   "source": [
    "import numpy as np\n",
    "import pandas as pd\n",
    "import tensorflow as tf\n",
    "from sklearn.model_selection import train_test_split\n",
    "from sklearn.cluster import KMeans\n",
    "from sklearn.utils import shuffle\n",
    "import sys\n",
    "import matplotlib.pyplot as plt\n",
    "\n",
    "TEST_PCT      = 0.20\n",
    "VAL_PCT       = 0.10\n",
    "SUMMARIES_DIR = '/home/tom/tf_logs' # where to store Tensorboard data\n",
    "FILENM        = \"rbf_data.csv\"\n",
    "CLUSTER_METHOD = 'random'        # \"km\" \"random\"\n",
    "NUM_NODES      = 8\n",
    "SIGMA          = 2."
   ]
  },
  {
   "cell_type": "code",
   "execution_count": 2,
   "metadata": {
    "collapsed": true
   },
   "outputs": [],
   "source": [
    "## Load the data\n",
    "if sys.platform[:3] =='win': data_loc = 'D:/Data/Loyalty Vision/'\n",
    "else: data_loc = \"/home/tom/data/\"\n",
    "df = pd.read_csv(data_loc+FILENM, delimiter=',')\n",
    "data = np.asmatrix(df)"
   ]
  },
  {
   "cell_type": "code",
   "execution_count": 3,
   "metadata": {
    "collapsed": true
   },
   "outputs": [],
   "source": [
    "# Split into train and test\n",
    "train, test = train_test_split(data,  test_size=TEST_PCT)\n",
    "train, val  = train_test_split(train, test_size=VAL_PCT)\n",
    "\n",
    "train_x = train[:,0].reshape(-1,1)\n",
    "train_y = train[:,1].reshape(-1,1)\n",
    "val_x   = val[:,0].reshape(-1,1)\n",
    "val_y   = val[:,1].reshape(-1,1)\n",
    "test_x  = test[:,0].reshape(-1,1)\n",
    "test_y  = np.array(test[:,1])"
   ]
  },
  {
   "cell_type": "code",
   "execution_count": 4,
   "metadata": {
    "collapsed": false
   },
   "outputs": [
    {
     "data": {
      "image/png": "[encoded data removed]",
      "text/plain": [
       "<matplotlib.figure.Figure at 0x7fc47c299b00>"
      ]
     },
     "metadata": {},
     "output_type": "display_data"
    }
   ],
   "source": [
    "# Plot the training data\n",
    "a = plt.scatter(train_x, train_y, s=1, color='blue')\n",
    "plt.title('Training data for RBF')\n",
    "plt.show()"
   ]
  },
  {
   "cell_type": "code",
   "execution_count": 5,
   "metadata": {
    "collapsed": false
   },
   "outputs": [
    {
     "name": "stdout",
     "output_type": "stream",
     "text": [
      "Clustering via random sample\n"
     ]
    }
   ],
   "source": [
    "# Each node has a Center, randomly assigned. Distances are computed to each Center\n",
    "if CLUSTER_METHOD == 'km':\n",
    "    print('Clustering via k-means')\n",
    "    centers = KMeans(n_clusters=NUM_NODES).fit(train_x).cluster_centers_\n",
    "else:\n",
    "    print('Clustering via random sample')\n",
    "    mask = np.random.randint(0, len(train_x), size=[NUM_NODES])\n",
    "    centers = np.array(train_x[mask])"
   ]
  },
  {
   "cell_type": "code",
   "execution_count": 6,
   "metadata": {
    "collapsed": true
   },
   "outputs": [],
   "source": [
    "tf.reset_default_graph()\n",
    "\n",
    "# Set up the design matrix\n",
    "c   = tf.placeholder(\"float\", shape=[train_x.shape[1]])\n",
    "x   = tf.placeholder(\"float\", shape=[None,train_x.shape[1]])\n",
    "y_  = tf.placeholder(\"float\", shape=[None,train_y.shape[1]])\n",
    "DM  = tf.placeholder(\"float\", shape=[None,NUM_NODES])\n",
    "#\n",
    "# \"rbf\" is the radial basis function. Each \"x\" is processed by each node, so for 50\n",
    "# samples and a 3-node network, you'd produce a 50x3 array\n",
    "# Each node will have a different \"c\" Center but otherwise the same\n",
    "rbf = tf.exp(-tf.div(tf.pow(tf.sub(x, c),2), tf.pow(SIGMA,2)))\n",
    "\n",
    "# Loop through the nodes. Use a different \"c\" each time and accumulate results in rbf_array\n",
    "# The array has an initial \"zeros\" just to get the shape right and allow \"insert\"\n",
    "rbf_array = np.zeros(shape=[len(train_x),1])\n",
    "\n",
    "test = tf.sub(x,c)\n",
    "\n",
    "for i in range(NUM_NODES):\n",
    "    with tf.Session() as sess:\n",
    "        sess.run(tf.initialize_all_variables())\n",
    "        tmp = sess.run(rbf, feed_dict={x: train_x, c: centers[i]})\n",
    "    rbf_array = np.insert(rbf_array, i+1, tmp.flatten(), axis=1)\n",
    "\n",
    "# Now you can delete that placeholder column of zeros\n",
    "rbf_array = np.delete(rbf_array,0, axis=1)"
   ]
  },
  {
   "cell_type": "code",
   "execution_count": 7,
   "metadata": {
    "collapsed": true
   },
   "outputs": [],
   "source": [
    "# Generate the weights with a series of matrix manipulations\n",
    "step1   = tf.matmul(DM, DM, transpose_a=True)\n",
    "step2   = tf.matrix_inverse(step1)\n",
    "step3   = tf.matmul(step2,DM, transpose_b=True)\n",
    "weights = tf.matmul(step3, y_)\n",
    "\n",
    "with tf.Session() as sess:\n",
    "    sess.run(tf.initialize_all_variables())\n",
    "    opt_weights = sess.run(weights, feed_dict={DM: rbf_array, y_: train_y})"
   ]
  },
  {
   "cell_type": "code",
   "execution_count": 8,
   "metadata": {
    "collapsed": false
   },
   "outputs": [
    {
     "name": "stdout",
     "output_type": "stream",
     "text": [
      "RMSE: 0.003\n"
     ]
    }
   ],
   "source": [
    "# Now that the weights are optimized, run the test batch through and see what you get\n",
    "# First, generate a new Design Matrix, which is the test_x values run through the rbf\n",
    "rbf_array = np.zeros(shape=[len(test_x),1])\n",
    "\n",
    "for i in range(NUM_NODES):\n",
    "    with tf.Session() as sess:\n",
    "        sess.run(tf.initialize_all_variables())\n",
    "        tom = sess.run(rbf, feed_dict={x: test_x, c: centers[i]})\n",
    "    rbf_array = np.insert(rbf_array, i+1, tom.flatten(), axis=1)\n",
    "rbf_array = np.delete(rbf_array,0, axis=1)\n",
    "\n",
    "# Now multiply the DM by the weights for the fitted values\n",
    "final = tf.matmul(DM, weights)\n",
    "with tf.Session() as sess:\n",
    "    fitted_y = sess.run(final, feed_dict={DM: rbf_array, weights: opt_weights})\n",
    "\n",
    "mse = np.mean((fitted_y-test_y)**2)\n",
    "print('RMSE: {:.3f}'.format(mse))"
   ]
  },
  {
   "cell_type": "code",
   "execution_count": 9,
   "metadata": {
    "collapsed": false
   },
   "outputs": [
    {
     "data": {
      "image/png": "[encoded data removed]",
      "text/plain": [
       "<matplotlib.figure.Figure at 0x7fc445777390>"
      ]
     },
     "metadata": {},
     "output_type": "display_data"
    },
    {
     "name": "stdout",
     "output_type": "stream",
     "text": [
      "Playing WAVE '/usr/share/sounds/bicycle_bell.wav' : Signed 16 bit Little Endian, Rate 11127 Hz, Mono\r\n"
     ]
    }
   ],
   "source": [
    "# Plot the results\n",
    "with plt.style.context('seaborn-whitegrid'):\n",
    "    plt.scatter(test_x,test_y, label='Actual')\n",
    "    plt.scatter(test_x, fitted_y, label='Fitted',c='red')\n",
    "    plt.xlabel(\"X value\")\n",
    "    plt.ylabel(\"Y value\")\n",
    "    plt.legend(loc='upper left')\n",
    "    plt.show()\n",
    "!aplay /usr/share/sounds/bicycle_bell.wav"
   ]
  }
 ],
 "metadata": {
  "anaconda-cloud": {},
  "kernelspec": {
   "display_name": "Python [conda env:tensorflow]",
   "language": "python",
   "name": "conda-env-tensorflow-py"
  },
  "language_info": {
   "codemirror_mode": {
    "name": "ipython",
    "version": 3
   },
   "file_extension": ".py",
   "mimetype": "text/x-python",
   "name": "python",
   "nbconvert_exporter": "python",
   "pygments_lexer": "ipython3",
   "version": "3.5.2"
  }
 },
 "nbformat": 4,
 "nbformat_minor": 2
}

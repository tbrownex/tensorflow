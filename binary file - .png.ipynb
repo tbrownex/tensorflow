{
 "cells": [
  {
   "cell_type": "markdown",
   "metadata": {},
   "source": [
    "#### Convert large number of .png images to a TF binary\n",
    "https://indico.io/blog/tensorflow-data-inputs-part1-placeholders-protobufs-queues/"
   ]
  },
  {
   "cell_type": "code",
   "execution_count": 2,
   "metadata": {
    "collapsed": false
   },
   "outputs": [],
   "source": [
    "import tensorflow as tf\n",
    "import numpy as np\n",
    "import pandas as pd\n",
    "import os\n",
    "\n",
    "DATA_DIR = '/home/tom/data/notMNIST/notMNIST_small/'\n",
    "FILENM   = 'notMNIST'"
   ]
  },
  {
   "cell_type": "code",
   "execution_count": 11,
   "metadata": {
    "collapsed": false
   },
   "outputs": [
    {
     "ename": "SyntaxError",
     "evalue": "invalid syntax (<ipython-input-11-c8cdb821079f>, line 11)",
     "output_type": "error",
     "traceback": [
      "\u001b[0;36m  File \u001b[0;32m\"<ipython-input-11-c8cdb821079f>\"\u001b[0;36m, line \u001b[0;32m11\u001b[0m\n\u001b[0;31m    'width':  tf.train.Feature(int64_list=tf.train.Int64List(value=28.astype(\"int64\"))),\u001b[0m\n\u001b[0m                                                                           ^\u001b[0m\n\u001b[0;31mSyntaxError\u001b[0m\u001b[0;31m:\u001b[0m invalid syntax\n"
     ]
    }
   ],
   "source": [
    "writer = tf.python_io.TFRecordWriter(DATA_DIR+FILENM+'.tfrecords')\n",
    "dirs = os.listdir(DATA_DIR)\n",
    "for dir in dirs:\n",
    "    images = os.listdir(DATA_DIR+dir)\n",
    "    for image in images:\n",
    "        #image = image.tostring()\n",
    "        example = tf.train.Example(\n",
    "        features=tf.train.Features(\n",
    "            feature={\n",
    "                'height': tf.train.Feature(int64_list=tf.train.Int64List(value=[28])),\n",
    "                'width':  tf.train.Feature(int64_list=tf.train.Int64List(value=28.astype(\"int64\"))),\n",
    "                'depth': tf.train.Feature(float_list=tf.train.FloatList(value=1)),\n",
    "                'label': tf.train.Feature(bytes_list=tf.train.BytesList(value=[dir])),\n",
    "                'image_raw': tf.train.Feature(bytes_list=tf.train.BytesList(value=[image]))}))\n",
    "    serialized = example.SerializeToString()\n",
    "    writer.write(serialized)\n",
    "writer.close()"
   ]
  },
  {
   "cell_type": "code",
   "execution_count": 4,
   "metadata": {
    "collapsed": false
   },
   "outputs": [],
   "source": [
    "rows     = \n",
    "cols     = \n",
    "channels = \n",
    "label    = "
   ]
  },
  {
   "cell_type": "code",
   "execution_count": 5,
   "metadata": {
    "collapsed": false
   },
   "outputs": [],
   "source": [
    "writer = tf.python_io.TFRecordWriter(DATA_DIR+FILENAME+'.tfrecords')\n",
    "for index in range(num_examples):\n",
    "    image_raw = images[index].tostring()\n",
    "    example = tf.train.Example(\n",
    "        features=tf.train.Features(\n",
    "            feature={\n",
    "                'height': tf.train.Feature(float_list=tf.train.FloatList(value=num)),\n",
    "                'width': tf.train.Feature(float_list=tf.train.FloatList(value=v1)),\n",
    "                'depth': tf.train.Feature(float_list=tf.train.FloatList(value=v2)),\n",
    "                'label': tf.train.Feature(float_list=tf.train.FloatList(value=Y)),\n",
    "                'image_raw': _bytes_feature(image_raw)}))\n",
    "    serialized = example.SerializeToString()\n",
    "    writer.write(serialized)\n",
    "writer.close()"
   ]
  }
 ],
 "metadata": {
  "anaconda-cloud": {},
  "kernelspec": {
   "display_name": "Python [default]",
   "language": "python",
   "name": "python3"
  },
  "language_info": {
   "codemirror_mode": {
    "name": "ipython",
    "version": 3
   },
   "file_extension": ".py",
   "mimetype": "text/x-python",
   "name": "python",
   "nbconvert_exporter": "python",
   "pygments_lexer": "ipython3",
   "version": "3.5.2"
  }
 },
 "nbformat": 4,
 "nbformat_minor": 1
}

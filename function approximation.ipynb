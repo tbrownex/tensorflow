{
 "cells": [
  {
   "cell_type": "markdown",
   "metadata": {},
   "source": [
    "#### This is a framework for function approximation. Function is y=sin(x)\n",
    "Regularization: L2 didn't make much of a difference and Dropout did not work"
   ]
  },
  {
   "cell_type": "code",
   "execution_count": null,
   "metadata": {
    "collapsed": true
   },
   "outputs": [],
   "source": [
    "import numpy as np\n",
    "import tensorflow as tf\n",
    "from sklearn.model_selection import train_test_split\n",
    "from sklearn.utils import shuffle\n",
    "import sys\n",
    "import matplotlib.pyplot as plt\n",
    "\n",
    "L1_SIZE       = 20           # How many nodes in layer 1\n",
    "BATCH_SIZE    = 100\n",
    "EPOCHS        = 1000\n",
    "TEST_PCT      = 0.20\n",
    "VAL_PCT       = 0.10\n",
    "FEATURE_COUNT = 1\n",
    "LEARNING_RATE = .01\n",
    "SUMMARIES_DIR = '/home/tom/tf_logs' # where to store Tensorboard data\n",
    "LAMBDA        = 0.              # Regularization parameter"
   ]
  },
  {
   "cell_type": "markdown",
   "metadata": {},
   "source": [
    "#### Generate the data"
   ]
  },
  {
   "cell_type": "code",
   "execution_count": null,
   "metadata": {
    "collapsed": false
   },
   "outputs": [],
   "source": [
    "# Create training data: y = sin(x)\n",
    "x_ = np.random.random((1000,1))*10\n",
    "y_ = np.sin(x_)\n",
    "\n",
    "data = np.concatenate([x_,y_] ,axis=1)"
   ]
  },
  {
   "cell_type": "code",
   "execution_count": null,
   "metadata": {
    "collapsed": false
   },
   "outputs": [],
   "source": [
    "# Split into train and test\n",
    "train, test = train_test_split(data,  test_size=TEST_PCT)\n",
    "train, val  = train_test_split(train, test_size=VAL_PCT)\n",
    "\n",
    "train_x = train[:,0].reshape(-1,1)\n",
    "train_y = train[:,1].reshape(-1,1)\n",
    "val_x   = val[:,0].reshape(-1,1)\n",
    "val_y   = val[:,1].reshape(-1,1)\n",
    "test_x  = test[:,0].reshape(-1,1)\n",
    "test_y  = test[:,1].reshape(-1,1)"
   ]
  },
  {
   "cell_type": "code",
   "execution_count": null,
   "metadata": {
    "collapsed": false
   },
   "outputs": [],
   "source": [
    "# Training data should look like a sine wave\n",
    "a = plt.scatter(train_x, train_y, s=1, color='blue')\n",
    "plt.title('Training data: Y=sin(X)')\n",
    "plt.show()"
   ]
  },
  {
   "cell_type": "code",
   "execution_count": null,
   "metadata": {
    "collapsed": false
   },
   "outputs": [],
   "source": [
    "# Set up the network\n",
    "tf.reset_default_graph()\n",
    "x  = tf.placeholder(\"float\", shape=[None, FEATURE_COUNT])\n",
    "y_ = tf.placeholder(\"float\", shape=[None, 1])\n",
    "\n",
    "l1_w   = tf.Variable(tf.truncated_normal([FEATURE_COUNT, L1_SIZE], dtype=tf.float32))\n",
    "l1_b   = tf.Variable(tf.zeros([1,L1_SIZE], dtype=tf.float32))\n",
    "l1_act = tf.nn.tanh(tf.matmul(x,l1_w) + l1_b)\n",
    "#l1_act = tf.nn.dropout(l1_act, keep_prob=0.6)\n",
    "\n",
    "l2_w = tf.Variable(tf.truncated_normal([L1_SIZE,1], dtype=tf.float32))\n",
    "l2_b = tf.Variable(tf.zeros([1,1]))\n",
    "l2_out = tf.matmul(l1_act, l2_w) + l2_b\n",
    "\n",
    "#cost = tf.div(tf.add(tf.reduce_sum(tf.square(l2_out - y_)),\n",
    "#                     tf.mul(LAMBDA, tf.reduce_sum(tf.square(l1_w)))),\n",
    "#              2*train.size)\n",
    "\n",
    "cost = tf.reduce_mean(tf.square(l2_out - y_))\n",
    "tf.scalar_summary('cost', cost)\n",
    "\n",
    "# Optimizer\n",
    "optimize = tf.train.AdamOptimizer(learning_rate=LEARNING_RATE).minimize(cost)\n",
    "\n",
    "merged = tf.merge_all_summaries()"
   ]
  },
  {
   "cell_type": "code",
   "execution_count": null,
   "metadata": {
    "collapsed": false
   },
   "outputs": [],
   "source": [
    "count = 1\n",
    "num_training_batches = int(len(train_x) / BATCH_SIZE)\n",
    "print('{} epochs of {} iterations with batch size {}'.format(EPOCHS,num_training_batches,BATCH_SIZE))\n",
    "\n",
    "with tf.Session() as sess:\n",
    "    train_writer = tf.train.SummaryWriter(SUMMARIES_DIR + '/train', sess.graph)\n",
    "    sess.run(tf.initialize_all_variables())\n",
    "    for i in range(EPOCHS):\n",
    "        a,b = shuffle(train_x,train_y)\n",
    "        for j in range(num_training_batches):\n",
    "            x_mini = a[j*BATCH_SIZE:j*BATCH_SIZE+BATCH_SIZE]\n",
    "            y_mini = b[j*BATCH_SIZE:j*BATCH_SIZE+BATCH_SIZE]\n",
    "            sess.run(optimize, feed_dict = {x: x_mini, y_: y_mini})\n",
    "        if i % 10 == 0:\n",
    "            s, m = sess.run([cost, merged], feed_dict = {x: val_x, y_: val_y})\n",
    "            train_writer.add_summary(m, count)\n",
    "            count += 1\n",
    "    s,y_pred = sess.run([cost, l2_out], feed_dict = {x: test_x, y_: test_y})\n",
    "    print('Final score: {:.1f}'.format(s))\n",
    "train_writer.close()\n",
    "!aplay /usr/share/sounds/bicycle_bell.wav"
   ]
  },
  {
   "cell_type": "code",
   "execution_count": null,
   "metadata": {
    "collapsed": false
   },
   "outputs": [],
   "source": [
    "# See what the data looks like\n",
    "a = plt.scatter(test_x, y_pred, s=1, color='blue',label='Predicted')\n",
    "b = plt.scatter(test_x, test_y, s=1, color='red',label='Actual')\n",
    "plt.legend(loc='lower right')\n",
    "plt.show()"
   ]
  },
  {
   "cell_type": "code",
   "execution_count": null,
   "metadata": {
    "collapsed": true
   },
   "outputs": [],
   "source": []
  }
 ],
 "metadata": {
  "anaconda-cloud": {},
  "kernelspec": {
   "display_name": "Python [default]",
   "language": "python",
   "name": "python3"
  },
  "language_info": {
   "codemirror_mode": {
    "name": "ipython",
    "version": 3
   },
   "file_extension": ".py",
   "mimetype": "text/x-python",
   "name": "python",
   "nbconvert_exporter": "python",
   "pygments_lexer": "ipython3",
   "version": "3.5.2"
  }
 },
 "nbformat": 4,
 "nbformat_minor": 2
}

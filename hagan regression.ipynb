{
 "cells": [
  {
   "cell_type": "code",
   "execution_count": 1,
   "metadata": {
    "collapsed": false
   },
   "outputs": [],
   "source": [
    "import pandas as pd\n",
    "import numpy as np\n",
    "import tensorflow as tf\n",
    "from sklearn.model_selection import train_test_split\n",
    "from sklearn.preprocessing import StandardScaler\n",
    "import sys\n",
    "import matplotlib.pyplot as plt\n",
    "\n",
    "L1_SIZE       = 10            # How many nodes in layer 1\n",
    "EPOCHS        = 10\n",
    "TEST_PCT      = 0.15\n",
    "FEATURE_COUNT = 2\n",
    "LEARNING_RATE = .01\n",
    "SUMMARIES_DIR = '/home/tom/tf_logs' # where to store Tensorboard data\n",
    "LAMBDA        = 0.              # Regularization parameter"
   ]
  },
  {
   "cell_type": "code",
   "execution_count": 2,
   "metadata": {
    "collapsed": true
   },
   "outputs": [],
   "source": [
    "def init_weights(shape):\n",
    "    return tf.Variable(tf.random_normal(shape, dtype=tf.float32))"
   ]
  },
  {
   "cell_type": "markdown",
   "metadata": {},
   "source": [
    "#### Get the data"
   ]
  },
  {
   "cell_type": "code",
   "execution_count": 3,
   "metadata": {
    "collapsed": false
   },
   "outputs": [
    {
     "data": {
      "text/html": [
       "<div>\n",
       "<table border=\"1\" class=\"dataframe\">\n",
       "  <thead>\n",
       "    <tr style=\"text-align: right;\">\n",
       "      <th></th>\n",
       "      <th>v1</th>\n",
       "      <th>v2</th>\n",
       "      <th>y</th>\n",
       "    </tr>\n",
       "  </thead>\n",
       "  <tbody>\n",
       "    <tr>\n",
       "      <th>0</th>\n",
       "      <td>2.66</td>\n",
       "      <td>4.44</td>\n",
       "      <td>0.00</td>\n",
       "    </tr>\n",
       "    <tr>\n",
       "      <th>1</th>\n",
       "      <td>1.98</td>\n",
       "      <td>4.43</td>\n",
       "      <td>0.06</td>\n",
       "    </tr>\n",
       "    <tr>\n",
       "      <th>2</th>\n",
       "      <td>1.44</td>\n",
       "      <td>4.43</td>\n",
       "      <td>0.11</td>\n",
       "    </tr>\n",
       "    <tr>\n",
       "      <th>3</th>\n",
       "      <td>0.71</td>\n",
       "      <td>4.43</td>\n",
       "      <td>0.18</td>\n",
       "    </tr>\n",
       "    <tr>\n",
       "      <th>4</th>\n",
       "      <td>0.46</td>\n",
       "      <td>4.41</td>\n",
       "      <td>0.20</td>\n",
       "    </tr>\n",
       "  </tbody>\n",
       "</table>\n",
       "</div>"
      ],
      "text/plain": [
       "     v1    v2     y\n",
       "0  2.66  4.44  0.00\n",
       "1  1.98  4.43  0.06\n",
       "2  1.44  4.43  0.11\n",
       "3  0.71  4.43  0.18\n",
       "4  0.46  4.41  0.20"
      ]
     },
     "execution_count": 3,
     "metadata": {},
     "output_type": "execute_result"
    }
   ],
   "source": [
    "if sys.platform[:3] =='win':\n",
    "    data_loc = 'D:/Data/'\n",
    "else:\n",
    "    data_loc = \"/home/tom/data/\"\n",
    "\n",
    "filenm = \"haganCaseStudy1.csv\"\n",
    "df = pd.read_csv(data_loc+filenm, delimiter = ',')\n",
    "\n",
    "# v1 and v2 is the voltage coming out of the 2 solar cells\n",
    "# y is the position of the ping pong ball (in front of a light)\n",
    "df.head()"
   ]
  },
  {
   "cell_type": "code",
   "execution_count": 4,
   "metadata": {
    "collapsed": false
   },
   "outputs": [],
   "source": [
    "# Standardize the data\n",
    "v1     = df['v1'].values.reshape(-1,1)\n",
    "v1_std = StandardScaler().fit_transform(v1)\n",
    "v2     = df['v2'].values.reshape(-1,1)\n",
    "v2_std = StandardScaler().fit_transform(v2)\n",
    "y      = df['y'].values.reshape(-1,1)\n",
    "y_std  = StandardScaler().fit_transform(y)"
   ]
  },
  {
   "cell_type": "code",
   "execution_count": 5,
   "metadata": {
    "collapsed": false
   },
   "outputs": [],
   "source": [
    "# Split into train and test\n",
    "# Recombine into DF\n",
    "arr = np.concatenate([v1_std,v2_std,y_std], axis=1)\n",
    "cols = ['v1','v2','y']\n",
    "df = pd.DataFrame(arr, columns=cols)\n",
    "\n",
    "train, test = train_test_split(df, test_size=TEST_PCT)"
   ]
  },
  {
   "cell_type": "code",
   "execution_count": 6,
   "metadata": {
    "collapsed": false
   },
   "outputs": [],
   "source": [
    "X = train[['v1', 'v2']]\n",
    "Y = train[['y']]\n",
    "X_test = test[['v1', 'v2']]\n",
    "Y_test = test[['y']]"
   ]
  },
  {
   "cell_type": "code",
   "execution_count": 7,
   "metadata": {
    "collapsed": false
   },
   "outputs": [
    {
     "data": {
      "image/png": "[encoded data removed]",
      "text/plain": [
       "<matplotlib.figure.Figure at 0x7fb9c2b59358>"
      ]
     },
     "metadata": {},
     "output_type": "display_data"
    }
   ],
   "source": [
    "# See what the data looks like\n",
    "a = plt.scatter(y_std, v1_std, s=5, color='blue',label='Voltage1')\n",
    "b = plt.scatter(y_std, v2_std, s=5, color='red', label='Voltage2')\n",
    "plt.legend(loc='lower right')\n",
    "plt.xlabel('Position', fontsize=12)\n",
    "plt.ylabel('Voltages', fontsize=12)\n",
    "plt.show()"
   ]
  },
  {
   "cell_type": "code",
   "execution_count": 8,
   "metadata": {
    "collapsed": false
   },
   "outputs": [],
   "source": [
    "# Set up the network\n",
    "tf.reset_default_graph()\n",
    "x  = tf.placeholder(\"float\", shape=[None, FEATURE_COUNT])\n",
    "y_ = tf.placeholder(\"float\", shape=[None, 1])\n",
    "\n",
    "l1_w = init_weights([FEATURE_COUNT, L1_SIZE])\n",
    "l1_b = init_weights([1, L1_SIZE])\n",
    "l1_act = tf.nn.tanh(tf.matmul(x,l1_w + l1_b))\n",
    "\n",
    "l2_w = init_weights([L1_SIZE, 1])\n",
    "l2_b = init_weights([1,1])\n",
    "\n",
    "l2_out = tf.matmul(l1_act, l2_w + l2_b)\n",
    "\n",
    "#cost = tf.reduce_sum(tf.square(l2_out - y_))\n",
    "cost = tf.div(tf.add(tf.reduce_sum(tf.square(l2_out - y_)),\n",
    "                     tf.mul(LAMBDA, tf.reduce_sum(tf.square(l1_w)))),\n",
    "              2*X.size)\n",
    "\n",
    "# Optimizer\n",
    "optimize = tf.train.AdamOptimizer(learning_rate=LEARNING_RATE).minimize(cost)\n",
    "\n",
    "# Accuracy\n",
    "score = tf.reduce_sum(tf.square(l2_out - y_))\n",
    "tf.scalar_summary('score', score)\n",
    "\n",
    "merged = tf.merge_all_summaries()"
   ]
  },
  {
   "cell_type": "code",
   "execution_count": 11,
   "metadata": {
    "collapsed": false
   },
   "outputs": [
    {
     "name": "stdout",
     "output_type": "stream",
     "text": [
      "0.561366\n",
      "0.457818\n",
      "0.379939\n",
      "0.320736\n",
      "0.274457\n",
      "0.240591\n",
      "0.218109\n",
      "0.204044\n",
      "0.195088\n",
      "0.189004\n",
      "0.18459\n",
      "0.181212\n",
      "0.178456\n",
      "0.175944\n",
      "0.173323\n",
      "0.1704\n",
      "0.167203\n",
      "0.163737\n",
      "0.159842\n",
      "0.155348\n",
      "0.150259\n",
      "0.144919\n",
      "0.139936\n",
      "0.135901\n",
      "0.132813\n",
      "0.13056\n",
      "0.129394\n",
      "0.132013\n",
      "0.126114\n",
      "0.12499\n",
      "0.124199\n",
      "0.114686\n",
      "0.122766\n",
      "0.123064\n",
      "0.12353\n",
      "0.12646\n",
      "0.125325\n",
      "0.12457\n",
      "0.124981\n",
      "0.1232\n",
      "0.112758\n",
      "0.117225\n",
      "0.113316\n",
      "0.109306\n",
      "0.10563\n",
      "0.102575\n",
      "0.101588\n",
      "0.174128\n",
      "0.0970534\n",
      "0.0965272\n",
      "0.139768\n",
      "0.0985905\n",
      "0.0947369\n",
      "0.0949141\n",
      "0.102235\n",
      "0.102614\n",
      "0.111766\n",
      "0.0961182\n",
      "0.0925464\n",
      "0.0922164\n",
      "0.091576\n",
      "0.0910444\n",
      "0.0904448\n",
      "0.0897725\n",
      "0.087726\n",
      "0.0902244\n",
      "0.0869426\n",
      "0.0854865\n",
      "0.0842178\n",
      "0.0825755\n",
      "0.0800203\n",
      "0.0841364\n",
      "0.0754832\n",
      "0.0724214\n",
      "0.0692261\n",
      "0.0656772\n",
      "0.0624647\n",
      "0.060581\n",
      "0.0590937\n",
      "0.0587063\n",
      "0.0587826\n",
      "0.05632\n",
      "0.0574416\n",
      "0.0570326\n",
      "0.0970933\n",
      "0.0588476\n",
      "0.0615146\n",
      "0.0653733\n",
      "0.0703578\n",
      "0.0757333\n",
      "0.0831709\n",
      "0.0866492\n",
      "0.0913872\n",
      "0.0936418\n",
      "0.125777\n",
      "0.104625\n",
      "0.0956757\n",
      "0.108639\n",
      "0.108676\n",
      "0.110911\n"
     ]
    }
   ],
   "source": [
    "count = 1\n",
    "with tf.Session() as sess:\n",
    "    sess.run(tf.initialize_all_variables())\n",
    "    train_writer = tf.train.SummaryWriter(SUMMARIES_DIR + '/train', sess.graph)\n",
    "    for LAMBDA in np.linspace(0,.2,100):\n",
    "        for i in range(EPOCHS):\n",
    "            sess.run(optimize, feed_dict = {x: X, y_: Y})\n",
    "        s, m = sess.run([score, merged], feed_dict = {x: X_test, y_: Y_test})\n",
    "        print(s)\n",
    "        train_writer.add_summary(m, count)\n",
    "        count += 1\n",
    "    #tom = sess.run(l2_out, feed_dict = {x: X_test, y_: Y_test})\n",
    "    train_writer.close()"
   ]
  },
  {
   "cell_type": "code",
   "execution_count": 13,
   "metadata": {
    "collapsed": false
   },
   "outputs": [
    {
     "ename": "NameError",
     "evalue": "name 'tom' is not defined",
     "output_type": "error",
     "traceback": [
      "\u001b[0;31m---------------------------------------------------------------------------\u001b[0m",
      "\u001b[0;31mNameError\u001b[0m                                 Traceback (most recent call last)",
      "\u001b[0;32m<ipython-input-13-d513314ca2b5>\u001b[0m in \u001b[0;36m<module>\u001b[0;34m()\u001b[0m\n\u001b[1;32m      1\u001b[0m \u001b[0;31m# See what the data looks like\u001b[0m\u001b[0;34m\u001b[0m\u001b[0;34m\u001b[0m\u001b[0m\n\u001b[1;32m      2\u001b[0m \u001b[0;31m#plt.plot(X_test['v1'], tom, 'xb-')\u001b[0m\u001b[0;34m\u001b[0m\u001b[0;34m\u001b[0m\u001b[0m\n\u001b[0;32m----> 3\u001b[0;31m \u001b[0ma\u001b[0m \u001b[0;34m=\u001b[0m \u001b[0mplt\u001b[0m\u001b[0;34m.\u001b[0m\u001b[0mplot\u001b[0m\u001b[0;34m(\u001b[0m\u001b[0mX_test\u001b[0m\u001b[0;34m[\u001b[0m\u001b[0;34m'v1'\u001b[0m\u001b[0;34m]\u001b[0m\u001b[0;34m,\u001b[0m \u001b[0mtom\u001b[0m\u001b[0;34m,\u001b[0m  \u001b[0mcolor\u001b[0m\u001b[0;34m=\u001b[0m\u001b[0;34m'blue'\u001b[0m\u001b[0;34m,\u001b[0m\u001b[0mlabel\u001b[0m\u001b[0;34m=\u001b[0m\u001b[0;34m'Prediction'\u001b[0m\u001b[0;34m)\u001b[0m\u001b[0;34m\u001b[0m\u001b[0m\n\u001b[0m\u001b[1;32m      4\u001b[0m \u001b[0mb\u001b[0m \u001b[0;34m=\u001b[0m \u001b[0mplt\u001b[0m\u001b[0;34m.\u001b[0m\u001b[0mplot\u001b[0m\u001b[0;34m(\u001b[0m\u001b[0mX_test\u001b[0m\u001b[0;34m[\u001b[0m\u001b[0;34m'v1'\u001b[0m\u001b[0;34m]\u001b[0m\u001b[0;34m,\u001b[0m\u001b[0mY_test\u001b[0m\u001b[0;34m,\u001b[0m  \u001b[0mcolor\u001b[0m\u001b[0;34m=\u001b[0m\u001b[0;34m'red'\u001b[0m\u001b[0;34m,\u001b[0m\u001b[0mlabel\u001b[0m\u001b[0;34m=\u001b[0m\u001b[0;34m'Actual'\u001b[0m\u001b[0;34m)\u001b[0m\u001b[0;34m\u001b[0m\u001b[0m\n\u001b[1;32m      5\u001b[0m \u001b[0mplt\u001b[0m\u001b[0;34m.\u001b[0m\u001b[0mlegend\u001b[0m\u001b[0;34m(\u001b[0m\u001b[0mloc\u001b[0m\u001b[0;34m=\u001b[0m\u001b[0;34m'lower right'\u001b[0m\u001b[0;34m)\u001b[0m\u001b[0;34m\u001b[0m\u001b[0m\n",
      "\u001b[0;31mNameError\u001b[0m: name 'tom' is not defined"
     ]
    }
   ],
   "source": [
    "# See what the data looks like\n",
    "#plt.plot(X_test['v1'], tom, 'xb-')\n",
    "a = plt.plot(X_test['v1'], tom,  color='blue',label='Prediction')\n",
    "b = plt.plot(X_test['v1'],Y_test,  color='red',label='Actual')\n",
    "plt.legend(loc='lower right')\n",
    "plt.xlabel('Position', fontsize=12)\n",
    "plt.ylabel('Voltages', fontsize=12)\n",
    "plt.show()"
   ]
  },
  {
   "cell_type": "code",
   "execution_count": null,
   "metadata": {
    "collapsed": true
   },
   "outputs": [],
   "source": []
  }
 ],
 "metadata": {
  "anaconda-cloud": {},
  "kernelspec": {
   "display_name": "Python 3",
   "language": "python",
   "name": "python3"
  },
  "language_info": {
   "codemirror_mode": {
    "name": "ipython",
    "version": 3
   },
   "file_extension": ".py",
   "mimetype": "text/x-python",
   "name": "python",
   "nbconvert_exporter": "python",
   "pygments_lexer": "ipython3",
   "version": "3.5.2"
  }
 },
 "nbformat": 4,
 "nbformat_minor": 2
}

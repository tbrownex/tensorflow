{
 "cells": [
  {
   "cell_type": "code",
   "execution_count": null,
   "metadata": {
    "collapsed": true
   },
   "outputs": [],
   "source": [
    "import tensorflow as tf\n",
    "import numpy as np\n",
    "import pandas as pd\n",
    "import sys\n",
    "\n",
    "SAVE_DIR      = \"/home/tom/tf_checkpoints/\"\n",
    "SAVE_FILE     = \"moons\"\n",
    "FILENM        = 'moons_test.csv'\n",
    "NUM_CLASSES   = 2"
   ]
  },
  {
   "cell_type": "code",
   "execution_count": null,
   "metadata": {
    "collapsed": false
   },
   "outputs": [],
   "source": [
    "if sys.platform[:3] =='win':\n",
    "    data_loc = 'D:/Data/'\n",
    "else:\n",
    "    data_loc = \"/home/tom/data/\"\n",
    "\n",
    "df = pd.read_csv(data_loc+FILENM, header=None)"
   ]
  },
  {
   "cell_type": "code",
   "execution_count": null,
   "metadata": {
    "collapsed": false
   },
   "outputs": [],
   "source": [
    "# Both the data and the label are in the passed dataframe\n",
    "# Split them apart and put into numpy array\n",
    "def split_label(df):\n",
    "    labels = np.array(df[0], dtype='f')\n",
    "    # convert labels to a \"one-hot\" vector\n",
    "    labels = (np.arange(NUM_CLASSES) == labels[:, None]).astype(np.float32)\n",
    "\n",
    "    data = df.iloc[:,1:]\n",
    "    # Turn \"data\" into a np array which will be used to load the tensor\n",
    "    data = np.array(data, dtype='f')\n",
    "    return data, labels\n",
    "\n",
    "print('Test set:  {:,} rows'.format(df.shape[0]))\n",
    "\n",
    "# Split the features from the labels\n",
    "data, labels = split_label(df)"
   ]
  },
  {
   "cell_type": "code",
   "execution_count": null,
   "metadata": {
    "collapsed": false
   },
   "outputs": [],
   "source": [
    "tf.reset_default_graph()\n",
    "\n",
    "saver = tf.train.import_meta_graph(SAVE_DIR+SAVE_FILE+\".meta\")\n",
    "sess = tf.Session()\n",
    "saver.restore(sess, SAVE_DIR+SAVE_FILE)\n",
    "result, preds = sess.run([\"accuracy:0\",\"y:0\"], feed_dict={\"image:0\": data,\n",
    "                                           \"label:0\": labels,\n",
    "                                           \"drop:0\": 1.0})\n",
    "print('Accuracy: {:.1%}'.format(result))\n",
    "sess.close()\n",
    "!aplay /usr/share/sounds/bicycle_bell.wav"
   ]
  },
  {
   "cell_type": "markdown",
   "metadata": {},
   "source": [
    "#### Plot the results"
   ]
  },
  {
   "cell_type": "code",
   "execution_count": null,
   "metadata": {
    "collapsed": false
   },
   "outputs": [],
   "source": [
    "# Get the predictions\n",
    "preds = np.argmax(preds, axis=1)\n",
    "\n",
    "# Get the actuals\n",
    "a = tf.argmax(labels,1)\n",
    "with tf.Session() as sess:\n",
    "    actual = sess.run(a)\n",
    "\n",
    "import matplotlib.pyplot as plt\n",
    "from matplotlib.colors import ListedColormap\n",
    "\n",
    "cm = plt.cm.RdBu\n",
    "cm_bright = ListedColormap(['r', 'b'])\n",
    "plt.figure(figsize=(10,5))\n",
    "\n",
    "plt.subplot(1, 2, 1)\n",
    "plt.scatter(data[:, 0], data[:, 1], c=actual, cmap=cm_bright, alpha=0.6)\n",
    "plt.title(\"Actuals\")\n",
    "\n",
    "plt.subplot(1, 2, 2)\n",
    "plt.scatter(data[:, 0], data[:, 1], c=preds, cmap=cm_bright, alpha=0.6)\n",
    "plt.title(\"Predictions\")\n",
    "\n",
    "plt.tight_layout()\n",
    "plt.show()"
   ]
  },
  {
   "cell_type": "code",
   "execution_count": null,
   "metadata": {
    "collapsed": true
   },
   "outputs": [],
   "source": []
  }
 ],
 "metadata": {
  "anaconda-cloud": {},
  "kernelspec": {
   "display_name": "Python [default]",
   "language": "python",
   "name": "python3"
  },
  "language_info": {
   "codemirror_mode": {
    "name": "ipython",
    "version": 3
   },
   "file_extension": ".py",
   "mimetype": "text/x-python",
   "name": "python",
   "nbconvert_exporter": "python",
   "pygments_lexer": "ipython3",
   "version": "3.5.2"
  }
 },
 "nbformat": 4,
 "nbformat_minor": 2
}
